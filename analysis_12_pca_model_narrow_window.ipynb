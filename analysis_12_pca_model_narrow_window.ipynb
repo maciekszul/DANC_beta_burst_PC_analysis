{
 "cells": [
  {
   "cell_type": "code",
   "execution_count": 1,
   "id": "46d53960",
   "metadata": {},
   "outputs": [],
   "source": [
    "import pickle\n",
    "import numpy as np\n",
    "from sklearn.preprocessing import RobustScaler\n",
    "from sklearn.decomposition import PCA"
   ]
  },
  {
   "cell_type": "code",
   "execution_count": 2,
   "id": "15b3ecb6",
   "metadata": {},
   "outputs": [],
   "source": [
    "path = \"/home/mszul/datasets/explicit_implicit_beta/derivatives/PCA_results/waveforms_sensors.npy\"\n",
    "waveforms = np.load(path)\n",
    "waveform_time = np.linspace(-.13, .13, num=156)\n",
    "pick = np.where((waveform_time >=-0.075) & (waveform_time <=0.075))[0]"
   ]
  },
  {
   "cell_type": "code",
   "execution_count": 3,
   "id": "3d678e1a",
   "metadata": {},
   "outputs": [],
   "source": [
    "narrow_window = waveforms[:,pick]"
   ]
  },
  {
   "cell_type": "code",
   "execution_count": 9,
   "id": "02aa7168",
   "metadata": {},
   "outputs": [
    {
     "data": {
      "text/plain": [
       "PCA(n_components=20)"
      ]
     },
     "execution_count": 9,
     "metadata": {},
     "output_type": "execute_result"
    }
   ],
   "source": [
    "PCA_narrow = PCA(n_components=20)\n",
    "scaler_narrow = RobustScaler()\n",
    "scaler_narrow.fit(narrow_window)\n",
    "PCA_narrow.fit(scaler_narrow.transform(narrow_window))"
   ]
  },
  {
   "cell_type": "code",
   "execution_count": 10,
   "id": "f353bbde",
   "metadata": {},
   "outputs": [],
   "source": [
    "with open('/home/mszul/datasets/explicit_implicit_beta/derivatives/PCA_results/narrow_pca.pkl', 'wb') as f:\n",
    "    pickle.dump(PCA_narrow, f)\n",
    "with open('/home/mszul/datasets/explicit_implicit_beta/derivatives/PCA_results/narrow_scaler.pkl', 'wb') as f:\n",
    "    pickle.dump(scaler_narrow, f)"
   ]
  },
  {
   "cell_type": "code",
   "execution_count": null,
   "id": "3eda2e21",
   "metadata": {},
   "outputs": [],
   "source": []
  }
 ],
 "metadata": {
  "kernelspec": {
   "display_name": "Python 3 (ipykernel)",
   "language": "python",
   "name": "python3"
  },
  "language_info": {
   "codemirror_mode": {
    "name": "ipython",
    "version": 3
   },
   "file_extension": ".py",
   "mimetype": "text/x-python",
   "name": "python",
   "nbconvert_exporter": "python",
   "pygments_lexer": "ipython3",
   "version": "3.9.7"
  }
 },
 "nbformat": 4,
 "nbformat_minor": 5
}

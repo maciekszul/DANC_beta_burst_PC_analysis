{
 "cells": [
  {
   "cell_type": "code",
   "execution_count": 33,
   "id": "12018e4e",
   "metadata": {},
   "outputs": [],
   "source": [
    "import numpy as np\n",
    "import pandas as pd\n",
    "import os.path as op\n",
    "import statsmodels.api as sm\n",
    "import matplotlib.pylab as plt\n",
    "from sklearn.preprocessing import RobustScaler\n",
    "from sklearn.decomposition import PCA\n",
    "from scipy.stats import ks_2samp"
   ]
  },
  {
   "cell_type": "code",
   "execution_count": 2,
   "id": "6114b12e",
   "metadata": {},
   "outputs": [],
   "source": [
    "burst_features_all_path = \"/home/mszul/datasets/explicit_implicit_beta/derivatives/PCA_results/burst_features_sensors.csv\"\n",
    "burst_features_3SD_path = \"/home/mszul/datasets/explicit_implicit_beta/derivatives/PCA_results/3SD_features.csv\""
   ]
  },
  {
   "cell_type": "code",
   "execution_count": 3,
   "id": "3075edc6",
   "metadata": {},
   "outputs": [],
   "source": [
    "bursts_2SD = pd.read_csv(burst_features_all_path)\n",
    "bursts_3SD = pd.read_csv(burst_features_3SD_path)"
   ]
  },
  {
   "cell_type": "code",
   "execution_count": 23,
   "id": "f1d03783",
   "metadata": {},
   "outputs": [],
   "source": [
    "features = [\"peak_freq\", \"peak_amp_base\", \"fwhm_freq\", \"fwhm_time\"]\n",
    "\n",
    "labels = {\n",
    "    \"peak_freq\": [\"Peak Frequency [Hz]\", (13, 30), 1],\n",
    "    \"peak_amp_base\": [\"Amplitude [fT]\", (0, 130), 1e15],\n",
    "    \"fwhm_freq\": [\"Frequency Span [Hz]\", (0, 10), 1],\n",
    "    \"fwhm_time\": [\"Duration [ms]\", (0, 1000), 1e3],\n",
    "}"
   ]
  },
  {
   "cell_type": "code",
   "execution_count": null,
   "id": "c61071d7",
   "metadata": {},
   "outputs": [],
   "source": [
    "results = {}\n",
    "for ft in features:\n",
    "    ks, p = ks_2samp(bursts_2SD[ft].values, bursts_3SD[ft].values)\n",
    "    results[ft] = (ks, p)\n",
    "\n",
    "    f, ax = plt.subplots(1, 1, figsize=[8, 7], facecolor=\"white\", dpi=300)\n",
    "    ax.set_title(labels[ft][0])\n",
    "    fit_2SD = sm.nonparametric.KDEUnivariate(bursts_2SD[ft].values)\n",
    "    fit_2SD.fit(bw=1)\n",
    "    fit_3SD = sm.nonparametric.KDEUnivariate(bursts_3SD[ft].values)\n",
    "    fit_3SD.fit(bw=1)\n",
    "    ax.fill_between(fit_2SD.support, 0, fit_2SD.density, lw=0, color=\"#48BEFF\", label=\"2SD\", alpha=0.5, rasterized=True)\n",
    "    ax.fill_between(fit_3SD.support, 0, fit_3SD.density, lw=0, color=\"#43C59E\", label=\"3SD\", alpha=0.5, rasterized=True)\n",
    "    ax.legend(title=\"Detection\\nthreshold\", )\n",
    "    text = \"d={}\\np={}\".format(np.round(ks, 3), np.round(p, 3))\n",
    "    ax.set_xlim(labels[ft][1])\n",
    "    annot_loc = (ax.get_xbound()[0]+ax.get_xbound()[0]*0.1, ax.get_ybound()[1]-ax.get_ybound()[1]*0.1)\n",
    "    ax.text(*annot_loc, text)\n",
    "    path = \"/home/mszul/datasets/explicit_implicit_beta/derivatives/PCA_results/images/\"\n",
    "    filename = \"2SD_3SD_comp_{}.svg\".format(ft)\n",
    "    plt.savefig(op.join(path, filename))"
   ]
  },
  {
   "cell_type": "code",
   "execution_count": 7,
   "id": "faaabc07",
   "metadata": {},
   "outputs": [
    {
     "data": {
      "text/plain": [
       "{'peak_time': (0.006855516208661427, 1.1012122953701884e-188),\n",
       " 'peak_freq': (0.0410159452736395, 0.0),\n",
       " 'peak_amp_base': (0.18288664112745429, 0.0),\n",
       " 'fwhm_freq': (0.2154079467822526, 0.0),\n",
       " 'fwhm_time': (0.2594476465288209, 0.0)}"
      ]
     },
     "execution_count": 7,
     "metadata": {},
     "output_type": "execute_result"
    }
   ],
   "source": [
    "results"
   ]
  },
  {
   "cell_type": "code",
   "execution_count": 29,
   "id": "ce73fc6e",
   "metadata": {},
   "outputs": [
    {
     "data": {
      "image/png": "[encoded data removed]",
      "text/plain": [
       "<Figure size 576x504 with 1 Axes>"
      ]
     },
     "metadata": {},
     "output_type": "display_data"
    }
   ],
   "source": [
    "f, ax = plt.subplots(1, 1, figsize=[8, 7], facecolor=\"white\")\n",
    "ax.set_title(labels[ft][0])\n",
    "\n",
    "fit_2SD = sm.nonparametric.KDEUnivariate(bursts_2SD[ft].values)\n",
    "fit_2SD.fit(bw=1)\n",
    "fit_3SD = sm.nonparametric.KDEUnivariate(bursts_3SD[ft].values)\n",
    "fit_3SD.fit(bw=1)\n",
    "\n",
    "ax.fill_between(fit_2SD.support, 0, fit_2SD.density, lw=0, color=\"#48BEFF\", label=\"2SD\", alpha=0.5, rasterized=True)\n",
    "ax.fill_between(fit_3SD.support, 0, fit_3SD.density, lw=0, color=\"#43C59E\", label=\"3SD\", alpha=0.5, rasterized=True)\n",
    "ax.legend(title=\"Detection\\nthreshold\", )\n",
    "text = \"d={}\\np={}\".format(np.round(ks, 3), np.round(p, 3))\n",
    "\n",
    "ax.set_xlim(labels[ft][1])\n",
    "annot_loc = (ax.get_xbound()[0]+ax.get_xbound()[0]*0.1, ax.get_ybound()[1]-ax.get_ybound()[1]*0.1)\n",
    "ax.text(*annot_loc, text)"
   ]
  },
  {
   "cell_type": "code",
   "execution_count": 17,
   "id": "e7030e57",
   "metadata": {},
   "outputs": [
    {
     "data": {
      "text/plain": [
       "(3.122700000000038, 0.7406808680900472)"
      ]
     },
     "execution_count": 17,
     "metadata": {},
     "output_type": "execute_result"
    }
   ],
   "source": []
  },
  {
   "cell_type": "code",
   "execution_count": null,
   "id": "02174d4c",
   "metadata": {},
   "outputs": [],
   "source": []
  }
 ],
 "metadata": {
  "kernelspec": {
   "display_name": "Python 3 (ipykernel)",
   "language": "python",
   "name": "python3"
  },
  "language_info": {
   "codemirror_mode": {
    "name": "ipython",
    "version": 3
   },
   "file_extension": ".py",
   "mimetype": "text/x-python",
   "name": "python",
   "nbconvert_exporter": "python",
   "pygments_lexer": "ipython3",
   "version": "3.9.7"
  }
 },
 "nbformat": 4,
 "nbformat_minor": 5
}

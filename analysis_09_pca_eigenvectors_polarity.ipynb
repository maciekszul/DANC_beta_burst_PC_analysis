{
 "cells": [
  {
   "cell_type": "code",
   "execution_count": 1,
   "id": "b6668662",
   "metadata": {},
   "outputs": [],
   "source": [
    "import itertools as it\n",
    "import copy\n",
    "import os.path as op\n",
    "import pickle\n",
    "import matplotlib.pylab as plt\n",
    "from matplotlib import colors\n",
    "from extra.tools import many_is_in\n",
    "import numpy as np\n",
    "import pandas as pd\n",
    "from tqdm.notebook import tqdm\n",
    "from sklearn.preprocessing import RobustScaler\n",
    "from sklearn.decomposition import PCA"
   ]
  },
  {
   "cell_type": "code",
   "execution_count": 2,
   "id": "18aa2717",
   "metadata": {},
   "outputs": [],
   "source": [
    "scaler_path = \"/home/mszul/datasets/explicit_implicit_beta/derivatives/PCA_results/scaler_MEG.pkl\"\n",
    "PCA_path = \"/home/mszul/datasets/explicit_implicit_beta/derivatives/PCA_results/pca_solution_MEG.pkl\"\n",
    "burst_features_file_old = \"/home/mszul/datasets/explicit_implicit_beta/derivatives/PCA_results/burst_features.csv\"\n",
    "waveform_array_file = \"/home/mszul/datasets/explicit_implicit_beta/derivatives/PCA_results/all_waveforms.npy\""
   ]
  },
  {
   "cell_type": "code",
   "execution_count": null,
   "id": "06d81b6f",
   "metadata": {},
   "outputs": [],
   "source": [
    "burst_features = pd.read_csv(burst_features_file_old)\n",
    "waveforms = np.load(waveform_array_file)"
   ]
  }
 ],
 "metadata": {
  "kernelspec": {
   "display_name": "Python 3 (ipykernel)",
   "language": "python",
   "name": "python3"
  },
  "language_info": {
   "codemirror_mode": {
    "name": "ipython",
    "version": 3
   },
   "file_extension": ".py",
   "mimetype": "text/x-python",
   "name": "python",
   "nbconvert_exporter": "python",
   "pygments_lexer": "ipython3",
   "version": "3.9.12"
  }
 },
 "nbformat": 4,
 "nbformat_minor": 5
}

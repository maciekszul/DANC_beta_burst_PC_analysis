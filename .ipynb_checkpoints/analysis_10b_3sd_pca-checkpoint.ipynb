{
 "cells": [
  {
   "cell_type": "code",
   "execution_count": 1,
   "id": "b2f43683",
   "metadata": {},
   "outputs": [],
   "source": [
    "import sys\n",
    "import json\n",
    "import pickle\n",
    "import warnings\n",
    "import os.path as op\n",
    "import numpy as np\n",
    "import pandas as pd\n",
    "from os import sep\n",
    "import itertools as it\n",
    "from copy import deepcopy\n",
    "from utilities import files\n",
    "from functools import partial\n",
    "from tqdm import trange, tqdm\n",
    "import matplotlib.pylab as plt\n",
    "from matplotlib import ticker\n",
    "from joblib import Parallel, delayed\n",
    "from sklearn.decomposition import PCA\n",
    "from sklearn.preprocessing import RobustScaler\n",
    "from mne import read_epochs, pick_channels\n",
    "from extra.tools import many_is_in, cat, shuffle_array, shuffle_array_range, consecutive_margin_ix, dump_the_dict"
   ]
  },
  {
   "cell_type": "code",
   "execution_count": 53,
   "id": "96454977",
   "metadata": {},
   "outputs": [],
   "source": [
    "visual_epoch_file = \"/home/mszul/datasets/explicit_implicit_beta/derivatives/processed/sub-145/sub-145-002-visual-epo.fif\"\n",
    "motor_epoch_file = \"/home/mszul/datasets/explicit_implicit_beta/derivatives/processed/sub-145/sub-145-002-motor-epo.fif\"\n",
    "_3SD_features = \"/home/mszul/datasets/explicit_implicit_beta/derivatives/PCA_results/3SD_features.csv\"\n",
    "_3SD_waveforms = \"/home/mszul/datasets/explicit_implicit_beta/derivatives/PCA_results/3SD_waveforms.npy\"\n",
    "if all([op.exists(_3SD_features), op.exists(_3SD_waveforms)]):\n",
    "    waveforms = np.load(_3SD_waveforms)\n",
    "    columns_dict = pd.read_csv(_3SD_features)\n",
    "\n",
    "visual_epoch = read_epochs(visual_epoch_file, verbose=False)\n",
    "motor_epoch = read_epochs(motor_epoch_file, verbose=False)\n",
    "visual_epoch_times = visual_epoch.times\n",
    "motor_epoch_times = motor_epoch.times\n",
    "del visual_epoch\n",
    "del motor_epoch\n",
    "\n",
    "buffer = 0.125\n",
    "bin_width = 0.05\n",
    "baseline_range = [-0.5, -0.25]\n",
    "\n",
    "\n",
    "visual_time_bins = np.arange(visual_epoch_times[0] + buffer, visual_epoch_times[-1] - buffer, bin_width)\n",
    "motor_time_bins = np.arange(motor_epoch_times[0] + buffer, motor_epoch_times[-1] - buffer, bin_width)\n",
    "\n",
    "visual_bin_ranges = list(zip(visual_time_bins[:-1], visual_time_bins[1:]))\n",
    "motor_bin_ranges = list(zip(motor_time_bins[:-1], motor_time_bins[1:]))\n",
    "vis_time_plot = visual_time_bins[:-1]\n",
    "mot_time_plot = motor_time_bins[:-1]"
   ]
  },
  {
   "cell_type": "code",
   "execution_count": 73,
   "id": "3d91f4e3",
   "metadata": {},
   "outputs": [],
   "source": [
    "time_bins = {\n",
    "    \"visual\": visual_time_bins,\n",
    "    \"motor\": motor_time_bins\n",
    "}"
   ]
  },
  {
   "cell_type": "code",
   "execution_count": 57,
   "id": "45ed8dff",
   "metadata": {},
   "outputs": [],
   "source": [
    "# max_wvf = np.max(waveforms, axis=1)\n",
    "# max_wvf_prc = [np.percentile(max_wvf, 1), np.percentile(max_wvf, 99)]\n",
    "# max_wvf_map = ((max_wvf >= max_wvf_prc[0]) & (max_wvf <= max_wvf_prc[1]))\n",
    "# waveforms = waveforms[max_wvf_map,:]\n",
    "# columns_dict = columns_dict.loc[max_wvf_map].reset_index()"
   ]
  },
  {
   "cell_type": "code",
   "execution_count": 45,
   "id": "babe6b5f",
   "metadata": {},
   "outputs": [
    {
     "data": {
      "text/plain": [
       "PCA(n_components=20)"
      ]
     },
     "execution_count": 45,
     "metadata": {},
     "output_type": "execute_result"
    }
   ],
   "source": [
    "pc_fit_subset_map = np.random.choice(np.arange(waveforms.shape[0]), size=int(waveforms.shape[0]*0.4))\n",
    "PCA_3sd = PCA(n_components=20)\n",
    "PCA_3sd_scaler = RobustScaler().fit(waveforms[pc_fit_subset_map, :])\n",
    "PCA_3sd.fit(PCA_3sd_scaler.transform(waveforms[pc_fit_subset_map, :]))"
   ]
  },
  {
   "cell_type": "code",
   "execution_count": 146,
   "id": "2e1aab39",
   "metadata": {},
   "outputs": [],
   "source": [
    "with open('/home/mszul/datasets/explicit_implicit_beta/derivatives/PCA_results/3sd_pca.pkl', 'wb') as f:\n",
    "    pickle.dump(PCA_3sd, f)\n",
    "with open('/home/mszul/datasets/explicit_implicit_beta/derivatives/PCA_results/3sd_scaler.pkl', 'wb') as f:\n",
    "    pickle.dump(PCA_3sd_scaler, f)"
   ]
  },
  {
   "cell_type": "code",
   "execution_count": 58,
   "id": "8c69bc24",
   "metadata": {},
   "outputs": [],
   "source": [
    "PC_3sd_scores = PCA_3sd.transform(PCA_3sd_scaler.transform(waveforms))"
   ]
  },
  {
   "cell_type": "code",
   "execution_count": 20,
   "id": "e51dec03",
   "metadata": {},
   "outputs": [],
   "source": [
    "pcs = [\"PC_{}\".format(i+1) for i in range(PC_3sd_scores.shape[1])]"
   ]
  },
  {
   "cell_type": "code",
   "execution_count": 59,
   "id": "6a8082e9",
   "metadata": {},
   "outputs": [],
   "source": [
    "pc_s = pd.DataFrame.from_dict({i: PC_3sd_scores[:,ix] for ix, i in enumerate(pcs)})\n",
    "output_dict = pd.concat([columns_dict, pc_s], axis=1)"
   ]
  },
  {
   "cell_type": "code",
   "execution_count": 145,
   "id": "69d4f084",
   "metadata": {},
   "outputs": [],
   "source": []
  },
  {
   "cell_type": "code",
   "execution_count": 33,
   "id": "55e1d65e",
   "metadata": {},
   "outputs": [],
   "source": [
    "t = np.round(time_bins[\"vis\"], 3)"
   ]
  },
  {
   "cell_type": "code",
   "execution_count": 70,
   "id": "c27803e3",
   "metadata": {},
   "outputs": [],
   "source": [
    "time_ranges = list(zip(t[:-1], t[1:]))"
   ]
  },
  {
   "cell_type": "code",
   "execution_count": 69,
   "id": "6a93ee4c",
   "metadata": {},
   "outputs": [],
   "source": [
    "subjects = columns_dict.subject.unique()\n",
    "trials = np.arange(448)"
   ]
  },
  {
   "cell_type": "code",
   "execution_count": 89,
   "id": "ba317ac8",
   "metadata": {
    "scrolled": true
   },
   "outputs": [],
   "source": [
    "total_burst_rate = {}\n",
    "for sub in tqdm(subjects):\n",
    "    for trial_type in [\"visual\", \"motor\"]:\n",
    "        subset = output_dict.loc[\n",
    "            (output_dict.subject == sub) &\n",
    "            (output_dict.trial_type == trial_type)\n",
    "        ]\n",
    "        all_tr_tc = []\n",
    "        for trial in subset.pp_ix.unique():\n",
    "            t = np.round(time_bins[trial_type], 3)\n",
    "            t = list(zip(t[:-1], t[1:]))\n",
    "            tr_tc = []\n",
    "            for tb, te in t:\n",
    "                out = subset.loc[\n",
    "                    (subset.pp_ix == trial) &\n",
    "                    (subset.peak_time >= tb) &\n",
    "                    (subset.peak_time < te)\n",
    "                ].polarity.count()\n",
    "                tr_tc.append(out)\n",
    "            all_tr_tc.append(tr_tc)\n",
    "        total_burst_rate[(sub, trial_type)] = np.array(all_tr_tc)"
   ]
  },
  {
   "cell_type": "code",
   "execution_count": 147,
   "id": "c92a35d3",
   "metadata": {},
   "outputs": [],
   "source": [
    "with open('/home/mszul/datasets/explicit_implicit_beta/derivatives/PCA_results/3sd_burst_rate.pkl', 'wb') as f:\n",
    "    pickle.dump(total_burst_rate, f)"
   ]
  },
  {
   "cell_type": "code",
   "execution_count": null,
   "id": "ffeae474",
   "metadata": {},
   "outputs": [],
   "source": [
    "pc_score_time = {}\n",
    "for sub in tqdm(subjects):\n",
    "    for trial_type in [\"visual\", \"motor\"]:\n",
    "        subset = output_dict.loc[\n",
    "            (output_dict.subject == sub) &\n",
    "            (output_dict.trial_type == trial_type)\n",
    "        ]\n",
    "        for pc in pcs:\n",
    "            all_tr_tc = []\n",
    "            for trial in subset.pp_ix.unique():\n",
    "                t = np.round(time_bins[trial_type], 3)\n",
    "                t = list(zip(t[:-1], t[1:]))\n",
    "                tr_tc = []\n",
    "                for tb, te in t:              \n",
    "                    out = subset.loc[\n",
    "                        (subset.pp_ix == trial) &\n",
    "                        (subset.peak_time >= tb) &\n",
    "                        (subset.peak_time < te)\n",
    "                    ][pc].mean()\n",
    "                    tr_tc.append(out)\n",
    "                all_tr_tc.append(tr_tc)\n",
    "            pc_score_time[(sub, trial_type, pc)] = np.array(all_tr_tc)\n",
    "with open('/home/mszul/datasets/explicit_implicit_beta/derivatives/PCA_results/3sd_pc_score_in_time.pkl', 'wb') as f:\n",
    "    pickle.dump(pc_score_time, f)"
   ]
  },
  {
   "cell_type": "code",
   "execution_count": 160,
   "id": "f4aafd55",
   "metadata": {},
   "outputs": [],
   "source": [
    "def pc_score_per_trial(subset, pc, time_bins):\n",
    "    sub = subset.subject.unique()[0]\n",
    "    trial_type = subset.trial_type.unique()[0]\n",
    "    all_tr_tc = []\n",
    "    for trial in subset.pp_ix.unique():\n",
    "        t = np.round(time_bins[trial_type], 3)\n",
    "        t = list(zip(t[:-1], t[1:]))\n",
    "        tr_tc = []\n",
    "        for tb, te in t:              \n",
    "            out = subset.loc[\n",
    "                (subset.pp_ix == trial) &\n",
    "                (subset.peak_time >= tb) &\n",
    "                (subset.peak_time < te)\n",
    "            ][pc].mean()\n",
    "            tr_tc.append(out)\n",
    "        all_tr_tc.append(tr_tc)\n",
    "    pc_score_time[(sub, trial_type, pc)] = np.array(all_tr_tc)"
   ]
  },
  {
   "cell_type": "code",
   "execution_count": 162,
   "id": "30b60631",
   "metadata": {},
   "outputs": [
    {
     "name": "stderr",
     "output_type": "stream",
     "text": [
      "  0%|                                                    | 0/37 [00:26<?, ?it/s]\n"
     ]
    },
    {
     "ename": "KeyboardInterrupt",
     "evalue": "",
     "output_type": "error",
     "traceback": [
      "\u001b[0;31m---------------------------------------------------------------------------\u001b[0m",
      "\u001b[0;31mKeyboardInterrupt\u001b[0m                         Traceback (most recent call last)",
      "\u001b[0;32m/tmp/ipykernel_2537/2139756465.py\u001b[0m in \u001b[0;36m<module>\u001b[0;34m\u001b[0m\n\u001b[1;32m      6\u001b[0m             \u001b[0;34m(\u001b[0m\u001b[0moutput_dict\u001b[0m\u001b[0;34m.\u001b[0m\u001b[0mtrial_type\u001b[0m \u001b[0;34m==\u001b[0m \u001b[0mtrial_type\u001b[0m\u001b[0;34m)\u001b[0m\u001b[0;34m\u001b[0m\u001b[0;34m\u001b[0m\u001b[0m\n\u001b[1;32m      7\u001b[0m         ]\n\u001b[0;32m----> 8\u001b[0;31m         Parallel(n_jobs=20, require=\"sharedmem\")(delayed(pc_score_per_trial)(\n\u001b[0m\u001b[1;32m      9\u001b[0m             \u001b[0msubset\u001b[0m\u001b[0;34m,\u001b[0m \u001b[0mpc\u001b[0m\u001b[0;34m,\u001b[0m \u001b[0mtime_bins\u001b[0m\u001b[0;34m\u001b[0m\u001b[0;34m\u001b[0m\u001b[0m\n\u001b[1;32m     10\u001b[0m         ) for pc in pcs);\n",
      "\u001b[0;32m~/miniconda3/envs/mne/lib/python3.9/site-packages/joblib/parallel.py\u001b[0m in \u001b[0;36m__call__\u001b[0;34m(self, iterable)\u001b[0m\n\u001b[1;32m   1052\u001b[0m \u001b[0;34m\u001b[0m\u001b[0m\n\u001b[1;32m   1053\u001b[0m             \u001b[0;32mwith\u001b[0m \u001b[0mself\u001b[0m\u001b[0;34m.\u001b[0m\u001b[0m_backend\u001b[0m\u001b[0;34m.\u001b[0m\u001b[0mretrieval_context\u001b[0m\u001b[0;34m(\u001b[0m\u001b[0;34m)\u001b[0m\u001b[0;34m:\u001b[0m\u001b[0;34m\u001b[0m\u001b[0;34m\u001b[0m\u001b[0m\n\u001b[0;32m-> 1054\u001b[0;31m                 \u001b[0mself\u001b[0m\u001b[0;34m.\u001b[0m\u001b[0mretrieve\u001b[0m\u001b[0;34m(\u001b[0m\u001b[0;34m)\u001b[0m\u001b[0;34m\u001b[0m\u001b[0;34m\u001b[0m\u001b[0m\n\u001b[0m\u001b[1;32m   1055\u001b[0m             \u001b[0;31m# Make sure that we get a last message telling us we are done\u001b[0m\u001b[0;34m\u001b[0m\u001b[0;34m\u001b[0m\u001b[0m\n\u001b[1;32m   1056\u001b[0m             \u001b[0melapsed_time\u001b[0m \u001b[0;34m=\u001b[0m \u001b[0mtime\u001b[0m\u001b[0;34m.\u001b[0m\u001b[0mtime\u001b[0m\u001b[0;34m(\u001b[0m\u001b[0;34m)\u001b[0m \u001b[0;34m-\u001b[0m \u001b[0mself\u001b[0m\u001b[0;34m.\u001b[0m\u001b[0m_start_time\u001b[0m\u001b[0;34m\u001b[0m\u001b[0;34m\u001b[0m\u001b[0m\n",
      "\u001b[0;32m~/miniconda3/envs/mne/lib/python3.9/site-packages/joblib/parallel.py\u001b[0m in \u001b[0;36mretrieve\u001b[0;34m(self)\u001b[0m\n\u001b[1;32m    931\u001b[0m             \u001b[0;32mtry\u001b[0m\u001b[0;34m:\u001b[0m\u001b[0;34m\u001b[0m\u001b[0;34m\u001b[0m\u001b[0m\n\u001b[1;32m    932\u001b[0m                 \u001b[0;32mif\u001b[0m \u001b[0mgetattr\u001b[0m\u001b[0;34m(\u001b[0m\u001b[0mself\u001b[0m\u001b[0;34m.\u001b[0m\u001b[0m_backend\u001b[0m\u001b[0;34m,\u001b[0m \u001b[0;34m'supports_timeout'\u001b[0m\u001b[0;34m,\u001b[0m \u001b[0;32mFalse\u001b[0m\u001b[0;34m)\u001b[0m\u001b[0;34m:\u001b[0m\u001b[0;34m\u001b[0m\u001b[0;34m\u001b[0m\u001b[0m\n\u001b[0;32m--> 933\u001b[0;31m                     \u001b[0mself\u001b[0m\u001b[0;34m.\u001b[0m\u001b[0m_output\u001b[0m\u001b[0;34m.\u001b[0m\u001b[0mextend\u001b[0m\u001b[0;34m(\u001b[0m\u001b[0mjob\u001b[0m\u001b[0;34m.\u001b[0m\u001b[0mget\u001b[0m\u001b[0;34m(\u001b[0m\u001b[0mtimeout\u001b[0m\u001b[0;34m=\u001b[0m\u001b[0mself\u001b[0m\u001b[0;34m.\u001b[0m\u001b[0mtimeout\u001b[0m\u001b[0;34m)\u001b[0m\u001b[0;34m)\u001b[0m\u001b[0;34m\u001b[0m\u001b[0;34m\u001b[0m\u001b[0m\n\u001b[0m\u001b[1;32m    934\u001b[0m                 \u001b[0;32melse\u001b[0m\u001b[0;34m:\u001b[0m\u001b[0;34m\u001b[0m\u001b[0;34m\u001b[0m\u001b[0m\n\u001b[1;32m    935\u001b[0m                     \u001b[0mself\u001b[0m\u001b[0;34m.\u001b[0m\u001b[0m_output\u001b[0m\u001b[0;34m.\u001b[0m\u001b[0mextend\u001b[0m\u001b[0;34m(\u001b[0m\u001b[0mjob\u001b[0m\u001b[0;34m.\u001b[0m\u001b[0mget\u001b[0m\u001b[0;34m(\u001b[0m\u001b[0;34m)\u001b[0m\u001b[0;34m)\u001b[0m\u001b[0;34m\u001b[0m\u001b[0;34m\u001b[0m\u001b[0m\n",
      "\u001b[0;32m~/miniconda3/envs/mne/lib/python3.9/multiprocessing/pool.py\u001b[0m in \u001b[0;36mget\u001b[0;34m(self, timeout)\u001b[0m\n\u001b[1;32m    763\u001b[0m \u001b[0;34m\u001b[0m\u001b[0m\n\u001b[1;32m    764\u001b[0m     \u001b[0;32mdef\u001b[0m \u001b[0mget\u001b[0m\u001b[0;34m(\u001b[0m\u001b[0mself\u001b[0m\u001b[0;34m,\u001b[0m \u001b[0mtimeout\u001b[0m\u001b[0;34m=\u001b[0m\u001b[0;32mNone\u001b[0m\u001b[0;34m)\u001b[0m\u001b[0;34m:\u001b[0m\u001b[0;34m\u001b[0m\u001b[0;34m\u001b[0m\u001b[0m\n\u001b[0;32m--> 765\u001b[0;31m         \u001b[0mself\u001b[0m\u001b[0;34m.\u001b[0m\u001b[0mwait\u001b[0m\u001b[0;34m(\u001b[0m\u001b[0mtimeout\u001b[0m\u001b[0;34m)\u001b[0m\u001b[0;34m\u001b[0m\u001b[0;34m\u001b[0m\u001b[0m\n\u001b[0m\u001b[1;32m    766\u001b[0m         \u001b[0;32mif\u001b[0m \u001b[0;32mnot\u001b[0m \u001b[0mself\u001b[0m\u001b[0;34m.\u001b[0m\u001b[0mready\u001b[0m\u001b[0;34m(\u001b[0m\u001b[0;34m)\u001b[0m\u001b[0;34m:\u001b[0m\u001b[0;34m\u001b[0m\u001b[0;34m\u001b[0m\u001b[0m\n\u001b[1;32m    767\u001b[0m             \u001b[0;32mraise\u001b[0m \u001b[0mTimeoutError\u001b[0m\u001b[0;34m\u001b[0m\u001b[0;34m\u001b[0m\u001b[0m\n",
      "\u001b[0;32m~/miniconda3/envs/mne/lib/python3.9/multiprocessing/pool.py\u001b[0m in \u001b[0;36mwait\u001b[0;34m(self, timeout)\u001b[0m\n\u001b[1;32m    760\u001b[0m \u001b[0;34m\u001b[0m\u001b[0m\n\u001b[1;32m    761\u001b[0m     \u001b[0;32mdef\u001b[0m \u001b[0mwait\u001b[0m\u001b[0;34m(\u001b[0m\u001b[0mself\u001b[0m\u001b[0;34m,\u001b[0m \u001b[0mtimeout\u001b[0m\u001b[0;34m=\u001b[0m\u001b[0;32mNone\u001b[0m\u001b[0;34m)\u001b[0m\u001b[0;34m:\u001b[0m\u001b[0;34m\u001b[0m\u001b[0;34m\u001b[0m\u001b[0m\n\u001b[0;32m--> 762\u001b[0;31m         \u001b[0mself\u001b[0m\u001b[0;34m.\u001b[0m\u001b[0m_event\u001b[0m\u001b[0;34m.\u001b[0m\u001b[0mwait\u001b[0m\u001b[0;34m(\u001b[0m\u001b[0mtimeout\u001b[0m\u001b[0;34m)\u001b[0m\u001b[0;34m\u001b[0m\u001b[0;34m\u001b[0m\u001b[0m\n\u001b[0m\u001b[1;32m    763\u001b[0m \u001b[0;34m\u001b[0m\u001b[0m\n\u001b[1;32m    764\u001b[0m     \u001b[0;32mdef\u001b[0m \u001b[0mget\u001b[0m\u001b[0;34m(\u001b[0m\u001b[0mself\u001b[0m\u001b[0;34m,\u001b[0m \u001b[0mtimeout\u001b[0m\u001b[0;34m=\u001b[0m\u001b[0;32mNone\u001b[0m\u001b[0;34m)\u001b[0m\u001b[0;34m:\u001b[0m\u001b[0;34m\u001b[0m\u001b[0;34m\u001b[0m\u001b[0m\n",
      "\u001b[0;32m~/miniconda3/envs/mne/lib/python3.9/threading.py\u001b[0m in \u001b[0;36mwait\u001b[0;34m(self, timeout)\u001b[0m\n\u001b[1;32m    572\u001b[0m             \u001b[0msignaled\u001b[0m \u001b[0;34m=\u001b[0m \u001b[0mself\u001b[0m\u001b[0;34m.\u001b[0m\u001b[0m_flag\u001b[0m\u001b[0;34m\u001b[0m\u001b[0;34m\u001b[0m\u001b[0m\n\u001b[1;32m    573\u001b[0m             \u001b[0;32mif\u001b[0m \u001b[0;32mnot\u001b[0m \u001b[0msignaled\u001b[0m\u001b[0;34m:\u001b[0m\u001b[0;34m\u001b[0m\u001b[0;34m\u001b[0m\u001b[0m\n\u001b[0;32m--> 574\u001b[0;31m                 \u001b[0msignaled\u001b[0m \u001b[0;34m=\u001b[0m \u001b[0mself\u001b[0m\u001b[0;34m.\u001b[0m\u001b[0m_cond\u001b[0m\u001b[0;34m.\u001b[0m\u001b[0mwait\u001b[0m\u001b[0;34m(\u001b[0m\u001b[0mtimeout\u001b[0m\u001b[0;34m)\u001b[0m\u001b[0;34m\u001b[0m\u001b[0;34m\u001b[0m\u001b[0m\n\u001b[0m\u001b[1;32m    575\u001b[0m             \u001b[0;32mreturn\u001b[0m \u001b[0msignaled\u001b[0m\u001b[0;34m\u001b[0m\u001b[0;34m\u001b[0m\u001b[0m\n\u001b[1;32m    576\u001b[0m \u001b[0;34m\u001b[0m\u001b[0m\n",
      "\u001b[0;32m~/miniconda3/envs/mne/lib/python3.9/threading.py\u001b[0m in \u001b[0;36mwait\u001b[0;34m(self, timeout)\u001b[0m\n\u001b[1;32m    310\u001b[0m         \u001b[0;32mtry\u001b[0m\u001b[0;34m:\u001b[0m    \u001b[0;31m# restore state no matter what (e.g., KeyboardInterrupt)\u001b[0m\u001b[0;34m\u001b[0m\u001b[0;34m\u001b[0m\u001b[0m\n\u001b[1;32m    311\u001b[0m             \u001b[0;32mif\u001b[0m \u001b[0mtimeout\u001b[0m \u001b[0;32mis\u001b[0m \u001b[0;32mNone\u001b[0m\u001b[0;34m:\u001b[0m\u001b[0;34m\u001b[0m\u001b[0;34m\u001b[0m\u001b[0m\n\u001b[0;32m--> 312\u001b[0;31m                 \u001b[0mwaiter\u001b[0m\u001b[0;34m.\u001b[0m\u001b[0macquire\u001b[0m\u001b[0;34m(\u001b[0m\u001b[0;34m)\u001b[0m\u001b[0;34m\u001b[0m\u001b[0;34m\u001b[0m\u001b[0m\n\u001b[0m\u001b[1;32m    313\u001b[0m                 \u001b[0mgotit\u001b[0m \u001b[0;34m=\u001b[0m \u001b[0;32mTrue\u001b[0m\u001b[0;34m\u001b[0m\u001b[0;34m\u001b[0m\u001b[0m\n\u001b[1;32m    314\u001b[0m             \u001b[0;32melse\u001b[0m\u001b[0;34m:\u001b[0m\u001b[0;34m\u001b[0m\u001b[0;34m\u001b[0m\u001b[0m\n",
      "\u001b[0;31mKeyboardInterrupt\u001b[0m: "
     ]
    }
   ],
   "source": [
    "pc_score_time = {}\n",
    "for sub in tqdm(subjects):\n",
    "    for trial_type in [\"visual\", \"motor\"]:\n",
    "        subset = output_dict.loc[\n",
    "            (output_dict.subject == sub) &\n",
    "            (output_dict.trial_type == trial_type)\n",
    "        ]\n",
    "        Parallel(n_jobs=40, require=\"sharedmem\")(delayed(pc_score_per_trial)(\n",
    "            subset, pc, time_bins\n",
    "        ) for pc in pcs);\n",
    "        \n",
    "with open('/home/mszul/datasets/explicit_implicit_beta/derivatives/PCA_results/3sd_pc_score_in_time.pkl', 'wb') as f:\n",
    "    pickle.dump(pc_score_time, f)"
   ]
  },
  {
   "cell_type": "code",
   "execution_count": 124,
   "id": "273fc0d5",
   "metadata": {
    "scrolled": true
   },
   "outputs": [],
   "source": [
    "bl_ix = np.where(\n",
    "    (time_bins[\"visual\"] >= baseline_range[0]) &\n",
    "    (time_bins[\"visual\"] <= baseline_range[-1])\n",
    ")[0]\n",
    "\n",
    "mean_burst_rate = {}\n",
    "mean_burst_rate[\"visual\"] = np.array([total_burst_rate[(sub, \"visual\")].mean(axis=0) for sub in subjects]) / bin_width\n",
    "mean_burst_rate[\"motor\"] = np.array([total_burst_rate[(sub, \"motor\")].mean(axis=0) for sub in subjects]) / bin_width\n",
    "mean_burst_rate[\"baseline\"] = mean_burst_rate[\"visual\"][:,bl_ix].mean(axis=1).reshape(-1,1)\n",
    "mean_burst_rate[\"visual_baselined\"] = (mean_burst_rate[\"visual\"] - mean_burst_rate[\"baseline\"]) / mean_burst_rate[\"baseline\"]\n",
    "mean_burst_rate[\"motor_baselined\"] = (mean_burst_rate[\"motor\"] - mean_burst_rate[\"baseline\"]) / mean_burst_rate[\"baseline\"]"
   ]
  },
  {
   "cell_type": "code",
   "execution_count": 143,
   "id": "483e0acd",
   "metadata": {},
   "outputs": [
    {
     "data": {
      "text/plain": [
       "(-0.65, 0.25)"
      ]
     },
     "execution_count": 143,
     "metadata": {},
     "output_type": "execute_result"
    },
    {
     "data": {
      "image/png": "[encoded data removed]",
      "text/plain": [
       "<Figure size 1008x288 with 2 Axes>"
      ]
     },
     "metadata": {},
     "output_type": "display_data"
    }
   ],
   "source": [
    "f, ax = plt.subplots(1,2, figsize=[14,4], facecolor=\"white\")\n",
    "ax[0].plot(vis_time_plot, mean_burst_rate[\"visual_baselined\"].mean(axis=0), lw=1.5, c=\"black\")\n",
    "ax[0].fill_between(\n",
    "    vis_time_plot,\n",
    "    mean_burst_rate[\"visual_baselined\"].mean(axis=0) - mean_burst_rate[\"visual_baselined\"].std(axis=0) / np.sqrt(37),\n",
    "    mean_burst_rate[\"visual_baselined\"].mean(axis=0) + mean_burst_rate[\"visual_baselined\"].std(axis=0) / np.sqrt(37),\n",
    "    lw=0, color=\"black\", alpha=0.2\n",
    ")\n",
    "ax[1].plot(mot_time_plot, mean_burst_rate[\"motor_baselined\"].mean(axis=0), lw=1.5, c=\"black\")\n",
    "ax[1].fill_between(\n",
    "    mot_time_plot,\n",
    "    mean_burst_rate[\"motor_baselined\"].mean(axis=0) - mean_burst_rate[\"motor_baselined\"].std(axis=0) / np.sqrt(37),\n",
    "    mean_burst_rate[\"motor_baselined\"].mean(axis=0) + mean_burst_rate[\"motor_baselined\"].std(axis=0) / np.sqrt(37),\n",
    "    lw=0, color=\"black\", alpha=0.2\n",
    ")\n",
    "\n",
    "ax[0].set_ylim(-0.65, 0.25)\n",
    "ax[1].set_ylim(-0.65, 0.25)"
   ]
  },
  {
   "cell_type": "code",
   "execution_count": 136,
   "id": "9fc13f19",
   "metadata": {},
   "outputs": [
    {
     "data": {
      "text/plain": [
       "array([0.00639218, 0.00785686, 0.00761834, 0.00682395, 0.00578409,\n",
       "       0.00880353, 0.00759707, 0.00879505, 0.0076425 , 0.00744299,\n",
       "       0.00811425, 0.00971049, 0.00889504, 0.01207236, 0.00907965,\n",
       "       0.01307933, 0.0134601 , 0.01501728, 0.01593904, 0.01478722,\n",
       "       0.01592973, 0.01766867, 0.01459346, 0.01676152, 0.01890966,\n",
       "       0.018392  , 0.0165116 , 0.01559149, 0.01535901, 0.01626923,\n",
       "       0.01632686, 0.01625326, 0.01743542, 0.01589544, 0.01662237,\n",
       "       0.01506309, 0.01674532, 0.01600873, 0.01460071, 0.01425838,\n",
       "       0.01553796, 0.01551134, 0.01512677, 0.01435204, 0.01351901,\n",
       "       0.01564392, 0.01445464, 0.01460289, 0.01365907, 0.0139472 ,\n",
       "       0.01423132, 0.01025581, 0.01234924, 0.01320526])"
      ]
     },
     "execution_count": 136,
     "metadata": {},
     "output_type": "execute_result"
    }
   ],
   "source": [
    "mean_burst_rate[\"visual_baselined\"].std(axis=0) / np.sqrt(37)"
   ]
  },
  {
   "cell_type": "code",
   "execution_count": 114,
   "id": "f7a5b865",
   "metadata": {},
   "outputs": [
    {
     "data": {
      "text/plain": [
       "array([ 8,  9, 10, 11, 12])"
      ]
     },
     "execution_count": 114,
     "metadata": {},
     "output_type": "execute_result"
    }
   ],
   "source": [
    "bl_ix"
   ]
  },
  {
   "cell_type": "code",
   "execution_count": null,
   "id": "0044f4e0",
   "metadata": {},
   "outputs": [],
   "source": []
  }
 ],
 "metadata": {
  "kernelspec": {
   "display_name": "Python 3 (ipykernel)",
   "language": "python",
   "name": "python3"
  },
  "language_info": {
   "codemirror_mode": {
    "name": "ipython",
    "version": 3
   },
   "file_extension": ".py",
   "mimetype": "text/x-python",
   "name": "python",
   "nbconvert_exporter": "python",
   "pygments_lexer": "ipython3",
   "version": "3.9.7"
  }
 },
 "nbformat": 4,
 "nbformat_minor": 5
}

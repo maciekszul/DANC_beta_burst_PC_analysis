{
 "cells": [
  {
   "cell_type": "code",
   "execution_count": 57,
   "id": "b6668662",
   "metadata": {},
   "outputs": [],
   "source": [
    "import itertools as it\n",
    "import copy\n",
    "import json\n",
    "import os.path as op\n",
    "import pickle\n",
    "import matplotlib.pylab as plt\n",
    "from matplotlib import colors\n",
    "from extra.tools import many_is_in\n",
    "import numpy as np\n",
    "import pandas as pd\n",
    "from tqdm.notebook import tqdm\n",
    "from sklearn.preprocessing import RobustScaler\n",
    "from sklearn.decomposition import PCA\n",
    "from scipy.linalg import eig\n",
    "from scipy.stats import spearmanr"
   ]
  },
  {
   "cell_type": "code",
   "execution_count": 2,
   "id": "18aa2717",
   "metadata": {},
   "outputs": [],
   "source": [
    "scaler_path = \"/home/mszul/datasets/explicit_implicit_beta/derivatives/PCA_results/scaler_MEG.pkl\"\n",
    "PCA_path = \"/home/mszul/datasets/explicit_implicit_beta/derivatives/PCA_results/pca_solution_MEG.pkl\"\n",
    "all_info = \"/home/mszul/datasets/explicit_implicit_beta/derivatives/PCA_results/sub_metrics.pkl\"\n",
    "burst_features_file = \"/home/mszul/datasets/explicit_implicit_beta/derivatives/PCA_results/burst_features_sensors.csv\"\n",
    "waveforms_path = \"/home/mszul/datasets/explicit_implicit_beta/derivatives/PCA_results/waveforms_sensors.npy\""
   ]
  },
  {
   "cell_type": "code",
   "execution_count": 3,
   "id": "08b469d6-9c45-4603-8198-64d983c50b8e",
   "metadata": {},
   "outputs": [
    {
     "data": {
      "application/vnd.jupyter.widget-view+json": {
       "model_id": "7a63a5aa73d44fddbaadd198892b9b6d",
       "version_major": 2,
       "version_minor": 0
      },
      "text/plain": [
       "  0%|          | 0/37 [00:00<?, ?it/s]"
      ]
     },
     "metadata": {},
     "output_type": "display_data"
    }
   ],
   "source": [
    "if op.exists(burst_features_file):\n",
    "    output_dict = pd.read_csv(burst_features_file)\n",
    "    with open(PCA_path, \"rb\") as input_file:\n",
    "        big_pca = pickle.load(input_file)\n",
    "\n",
    "    with open(scaler_path, \"rb\") as input_file:\n",
    "        big_scaler = pickle.load(input_file)\n",
    "else:\n",
    "    sub_metrics = pickle.load(open(all_info, \"rb\"))\n",
    "    scaler_meg = pickle.load(open(scaler_path, \"rb\"))\n",
    "    PCA_saved = pickle.load(open(PCA_path, \"rb\"))\n",
    "    features_columns = [\n",
    "        \"peak_time\", \"peak_freq\", \"peak_amp_base\", \n",
    "        \"fwhm_freq\", \"fwhm_time\", \"trial\", \"pp_ix\", \"block\", \n",
    "        \"sensor\", \"trial_type\", \"subject\", \"polarity\"\n",
    "    ]\n",
    "    PC_columns = [\"PC_\" + str(i+1) for i in range(20)]\n",
    "\n",
    "    columns = features_columns + PC_columns\n",
    "\n",
    "    output_dict = {i: [] for i in columns}\n",
    "\n",
    "    for sub in tqdm(sub_metrics.keys()):\n",
    "        for cat in [\"vis\", \"mot\"]:\n",
    "            for ft in features_columns:\n",
    "                shape = len(sub_metrics[sub][cat][\"peak_time\"])\n",
    "                if ft == \"trial_type\":\n",
    "                    output_dict[\"trial_type\"].append([cat] * shape)\n",
    "                elif ft == \"subject\":\n",
    "                    output_dict[\"subject\"].append([sub] * shape)\n",
    "                else:\n",
    "                    output_dict[ft].append(sub_metrics[sub][cat][ft])\n",
    "            PCS = PCA_saved.transform(scaler_meg.transform(sub_metrics[sub][cat][\"waveform\"]))\n",
    "            for PC_ix, PC_lab in enumerate(PC_columns):\n",
    "                output_dict[PC_lab].append(PCS[:,PC_ix])\n",
    "    output_dict = {i: np.hstack(output_dict[i]).flatten() for i in columns}\n",
    "    output_dict = pd.DataFrame.from_dict(output_dict)\n",
    "    output_dict.to_csv(burst_features_file, index=False)"
   ]
  },
  {
   "cell_type": "code",
   "execution_count": 15,
   "id": "29e4b6e7",
   "metadata": {},
   "outputs": [
    {
     "data": {
      "application/vnd.jupyter.widget-view+json": {
       "model_id": "a259dde1738248c28379f4e07dd6ffd0",
       "version_major": 2,
       "version_minor": 0
      },
      "text/plain": [
       "  0%|          | 0/37 [00:00<?, ?it/s]"
      ]
     },
     "metadata": {},
     "output_type": "display_data"
    }
   ],
   "source": [
    "if op.exists(waveforms_path):\n",
    "    waveforms = np.load(waveforms_path)\n",
    "else:\n",
    "    waveforms = []\n",
    "    for sub in tqdm(sub_metrics.keys()):\n",
    "        for cat in [\"vis\", \"mot\"]:\n",
    "            waveforms.append(sub_metrics[sub][cat][\"waveform\"])\n",
    "    waveforms = np.vstack(waveforms)\n",
    "    np.save(waveforms_path, waveforms)"
   ]
  },
  {
   "cell_type": "code",
   "execution_count": 6,
   "id": "c5333772",
   "metadata": {},
   "outputs": [],
   "source": [
    "with open(PCA_path, \"rb\") as input_file:\n",
    "    big_pca = pickle.load(input_file)\n",
    "\n",
    "with open(scaler_path, \"rb\") as input_file:\n",
    "    big_scaler = pickle.load(input_file)"
   ]
  },
  {
   "cell_type": "code",
   "execution_count": 7,
   "id": "4ced7b2f",
   "metadata": {},
   "outputs": [
    {
     "data": {
      "text/plain": [
       "(20, 156)"
      ]
     },
     "execution_count": 7,
     "metadata": {},
     "output_type": "execute_result"
    }
   ],
   "source": [
    "big_pca.components_.shape"
   ]
  },
  {
   "cell_type": "code",
   "execution_count": 18,
   "id": "527f2738",
   "metadata": {},
   "outputs": [
    {
     "data": {
      "text/plain": [
       "array([False, False,  True, ..., False, False, False])"
      ]
     },
     "execution_count": 18,
     "metadata": {},
     "output_type": "execute_result"
    }
   ],
   "source": [
    "output_dict.polarity.values.astype(bool)"
   ]
  },
  {
   "cell_type": "code",
   "execution_count": 16,
   "id": "6ee86f60",
   "metadata": {},
   "outputs": [
    {
     "data": {
      "text/plain": [
       "(14330032, 156)"
      ]
     },
     "execution_count": 16,
     "metadata": {},
     "output_type": "execute_result"
    }
   ],
   "source": [
    "waveforms.shape"
   ]
  },
  {
   "cell_type": "code",
   "execution_count": 35,
   "id": "2ec9d349",
   "metadata": {},
   "outputs": [],
   "source": [
    "max_wvf = np.max(waveforms, axis=1)\n",
    "max_wvf_prc = [np.percentile(max_wvf, 1), np.percentile(max_wvf, 99)]\n",
    "max_wvf_map = ((mean_wvf >= mean_wvf_prc[0]) & (mean_wvf <= mean_wvf_prc[1]))"
   ]
  },
  {
   "cell_type": "code",
   "execution_count": 36,
   "id": "a1fc297a",
   "metadata": {},
   "outputs": [],
   "source": [
    "polarity = output_dict.polarity.values.astype(bool)[max_wvf_map]\n",
    "waveforms_pol = waveforms[max_wvf_map]"
   ]
  },
  {
   "cell_type": "code",
   "execution_count": 38,
   "id": "2daca0fb",
   "metadata": {},
   "outputs": [],
   "source": [
    "flipped = waveforms_pol[polarity]\n",
    "unflipped = waveforms_pol[~polarity]"
   ]
  },
  {
   "cell_type": "code",
   "execution_count": 41,
   "id": "21982546",
   "metadata": {},
   "outputs": [
    {
     "data": {
      "text/plain": [
       "PCA(n_components=20)"
      ]
     },
     "execution_count": 41,
     "metadata": {},
     "output_type": "execute_result"
    }
   ],
   "source": [
    "flipped_PCA = PCA(n_components=20)\n",
    "unflipped_PCA = PCA(n_components=20)\n",
    "flipped_PCA.fit(big_scaler.transform(flipped))\n",
    "unflipped_PCA.fit(big_scaler.transform(unflipped))"
   ]
  },
  {
   "cell_type": "code",
   "execution_count": 56,
   "id": "5560f5cd",
   "metadata": {},
   "outputs": [],
   "source": [
    "flipped_comps = flipped_PCA.transform(big_scaler.transform(flipped))\n",
    "unflipped_comps = unflipped_PCA.transform(big_scaler.transform(unflipped))"
   ]
  },
  {
   "cell_type": "code",
   "execution_count": 54,
   "id": "5994d2cd",
   "metadata": {},
   "outputs": [],
   "source": [
    "components_range = list(it.product(range(20), repeat=2))"
   ]
  },
  {
   "cell_type": "code",
   "execution_count": 135,
   "id": "906e32d0",
   "metadata": {},
   "outputs": [],
   "source": [
    "f_r = np.zeros((20,20))\n",
    "f_p = np.zeros((20,20))\n",
    "\n",
    "for r, c in components_range:\n",
    "    f_r[r,c], f_p[r,c] = spearmanr(\n",
    "        flipped_PCA.components_[r],\n",
    "        unflipped_PCA.components_[c]\n",
    "    )\n",
    "\n",
    "af_r = np.zeros((20,20))\n",
    "af_p = np.zeros((20,20))\n",
    "\n",
    "for r, c in components_range:\n",
    "    af_r[r,c], af_p[r,c] = spearmanr(\n",
    "        big_pca.components_[r],\n",
    "        flipped_PCA.components_[c]\n",
    "    )\n",
    "\n",
    "\n",
    "auf_r = np.zeros((20,20))\n",
    "auf_p = np.zeros((20,20))\n",
    "\n",
    "for r, c in components_range:\n",
    "    auf_r[r,c], auf_p[r,c] = spearmanr(\n",
    "        big_pca.components_[r],\n",
    "        unflipped_PCA.components_[c]\n",
    "    )"
   ]
  },
  {
   "cell_type": "code",
   "execution_count": 189,
   "id": "44cbc971",
   "metadata": {},
   "outputs": [
    {
     "data": {
      "image/png": "[encoded data removed]",
      "text/plain": [
       "<Figure size 864x864 with 5 Axes>"
      ]
     },
     "metadata": {},
     "output_type": "display_data"
    }
   ],
   "source": [
    "f, ax = plt.subplots(2,2, figsize=[12,12], facecolor=\"white\")\n",
    "x = ax[0,0].imshow(\n",
    "    np.abs(f_r), origin=\"upper\",\n",
    "    aspect=\"auto\",\n",
    "    extent=[0,20,20,0],\n",
    "    vmin=0, vmax=1,\n",
    "    cmap=\"plasma\"\n",
    ")\n",
    "\n",
    "tick_labels = np.array([1, 5, 10, 15, 20])\n",
    "ticks = tick_labels - 0.5\n",
    "ax[0,0].set_xticks(ticks)\n",
    "ax[0,0].set_yticks(ticks)\n",
    "ax[0,0].set_xticklabels(tick_labels)\n",
    "ax[0,0].set_yticklabels(tick_labels)\n",
    "ax[0,0].set_xlabel(\"\")\n",
    "ax[0,0].set_ylabel(\"PC component - inversed waveform\")\n",
    "ax[0,0].set_xlabel(\"PC component - unaltered waveform\")\n",
    "\n",
    "x = ax[1,0].imshow(\n",
    "    np.abs(af_r), origin=\"upper\",\n",
    "    aspect=\"auto\",\n",
    "    extent=[0,20,20,0],\n",
    "    vmin=0, vmax=1,\n",
    "    cmap=\"plasma\"\n",
    ")\n",
    "ax[1,0].set_xticks(ticks)\n",
    "ax[1,0].set_yticks(ticks)\n",
    "ax[1,0].set_xticklabels(tick_labels)\n",
    "ax[1,0].set_yticklabels(tick_labels)\n",
    "ax[1,0].set_xlabel(\"\")\n",
    "ax[1,0].set_ylabel(\"PC component - all waveforms\")\n",
    "ax[1,0].set_xlabel(\"PC component - inversed waveform\")\n",
    "\n",
    "x = ax[0,1].imshow(\n",
    "    np.abs(auf_r), origin=\"upper\",\n",
    "    aspect=\"auto\",\n",
    "    extent=[0,20,20,0],\n",
    "    vmin=0, vmax=1,\n",
    "    cmap=\"plasma\"\n",
    ")\n",
    "\n",
    "ax[0,1].set_xticks(ticks)\n",
    "ax[0,1].set_yticks(ticks)\n",
    "ax[0,1].set_xticklabels(tick_labels)\n",
    "ax[0,1].set_yticklabels(tick_labels)\n",
    "ax[0,1].set_xlabel(\"\")\n",
    "ax[0,1].set_ylabel(\"PC component - all waveforms\")\n",
    "ax[0,1].set_xlabel(\"PC component - unaltered waveform\")\n",
    "\n",
    "ax[1,1].axis(\"off\")\n",
    "plt.colorbar(x, label=\"Spearman's r\")\n",
    "plt.tight_layout()\n",
    "plt.savefig(\"/home/mszul/datasets/explicit_implicit_beta/derivatives/PCA_results/images/pca_eigenvector_polarity.svg\")"
   ]
  },
  {
   "cell_type": "code",
   "execution_count": 116,
   "id": "177fe2ae",
   "metadata": {},
   "outputs": [
    {
     "data": {
      "text/plain": [
       "array([ 1,  5, 10, 15, 20])"
      ]
     },
     "execution_count": 116,
     "metadata": {},
     "output_type": "execute_result"
    }
   ],
   "source": [
    "np.array([1, 5, 10, 15, 20])"
   ]
  },
  {
   "cell_type": "code",
   "execution_count": 102,
   "id": "422ee3ec",
   "metadata": {},
   "outputs": [],
   "source": [
    "ticks = np.linspace(0,20, num=5)"
   ]
  },
  {
   "cell_type": "code",
   "execution_count": 108,
   "id": "cba4aaf6",
   "metadata": {},
   "outputs": [],
   "source": [
    "ticks[0] = 1.5"
   ]
  },
  {
   "cell_type": "code",
   "execution_count": 185,
   "id": "ec8c7078",
   "metadata": {},
   "outputs": [
    {
     "data": {
      "text/plain": [
       "-0.06569518420761486"
      ]
     },
     "execution_count": 185,
     "metadata": {},
     "output_type": "execute_result"
    }
   ],
   "source": [
    "af_r[0,0]"
   ]
  },
  {
   "cell_type": "code",
   "execution_count": 183,
   "id": "ac79982a",
   "metadata": {},
   "outputs": [
    {
     "data": {
      "text/plain": [
       "-0.06713344186120024"
      ]
     },
     "execution_count": 183,
     "metadata": {},
     "output_type": "execute_result"
    }
   ],
   "source": [
    "auf_r[0,0]"
   ]
  },
  {
   "cell_type": "code",
   "execution_count": null,
   "id": "a927af84",
   "metadata": {},
   "outputs": [],
   "source": []
  }
 ],
 "metadata": {
  "kernelspec": {
   "display_name": "Python 3 (ipykernel)",
   "language": "python",
   "name": "python3"
  },
  "language_info": {
   "codemirror_mode": {
    "name": "ipython",
    "version": 3
   },
   "file_extension": ".py",
   "mimetype": "text/x-python",
   "name": "python",
   "nbconvert_exporter": "python",
   "pygments_lexer": "ipython3",
   "version": "3.9.7"
  }
 },
 "nbformat": 4,
 "nbformat_minor": 5
}

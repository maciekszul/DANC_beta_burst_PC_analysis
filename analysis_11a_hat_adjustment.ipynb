{
 "cells": [
  {
   "cell_type": "code",
   "execution_count": 2,
   "id": "26c4130c",
   "metadata": {},
   "outputs": [],
   "source": [
    "import json\n",
    "import pickle\n",
    "import numpy as np\n",
    "import pandas as pd\n",
    "import os.path as op\n",
    "import itertools as it\n",
    "from utilities import files\n",
    "from mne import read_epochs\n",
    "from functools import partial\n",
    "import matplotlib.pylab as plt\n",
    "from joblib import Parallel, delayed\n",
    "from tqdm.notebook import trange, tqdm\n",
    "from matplotlib.collections import LineCollection\n",
    "from matplotlib import colors\n",
    "from sklearn.preprocessing import RobustScaler\n",
    "from sklearn.decomposition import PCA\n",
    "from skimage.measure import find_contours\n",
    "from scipy.ndimage import gaussian_filter, gaussian_filter1d\n",
    "from extra.tools import many_is_in, cat, shuffle_array, shuffle_array_range, consecutive_margin_ix, dump_the_dict\n",
    "from mne.stats import permutation_cluster_1samp_test, spatio_temporal_cluster_test, permutation_cluster_test, ttest_1samp_no_p"
   ]
  },
  {
   "cell_type": "code",
   "execution_count": 3,
   "id": "68aaf1f9",
   "metadata": {},
   "outputs": [],
   "source": [
    "PC_burst_rate_spec_file = \"/home/mszul/datasets/explicit_implicit_beta/derivatives/PCA_results/PC_burst_rate_spec.pkl\"\n",
    "PC_burst_rate_spec = pickle.load(open(PC_burst_rate_spec_file, \"rb\"))\n",
    "all_values = np.hstack([np.mean(PC_burst_rate_spec[pc][ep], axis=0).flatten() for ep in [\"mot\", \"vis\"] for pc in PC_burst_rate_spec.keys()])\n",
    "PC_to_analyse = [\"PC_7\", \"PC_8\", \"PC_9\", \"PC_10\"]"
   ]
  },
  {
   "cell_type": "code",
   "execution_count": 13,
   "id": "f6d43ab4",
   "metadata": {},
   "outputs": [],
   "source": [
    "pc_keys = PC_burst_rate_spec.keys()"
   ]
  },
  {
   "cell_type": "code",
   "execution_count": 7,
   "id": "c1c8f5bc",
   "metadata": {},
   "outputs": [],
   "source": [
    "sigma = 1e-3"
   ]
  },
  {
   "cell_type": "code",
   "execution_count": 12,
   "id": "71ed1fcd",
   "metadata": {},
   "outputs": [
    {
     "data": {
      "text/plain": [
       "(54, 40)"
      ]
     },
     "execution_count": 12,
     "metadata": {},
     "output_type": "execute_result"
    }
   ],
   "source": [
    "PC_burst_rate_spec[\"PC_7\"][\"vis\"][0].shape"
   ]
  },
  {
   "cell_type": "code",
   "execution_count": 23,
   "id": "a0adb9ba",
   "metadata": {},
   "outputs": [
    {
     "name": "stdout",
     "output_type": "stream",
     "text": [
      "0.0\n",
      "0.0\n",
      "0.0\n",
      "0.0\n",
      "0.0\n",
      "0.0\n",
      "0.0\n",
      "0.0\n"
     ]
    }
   ],
   "source": [
    "for pc in pc_keys:\n",
    "    for t in [\"vis\", \"mot\"]:\n",
    "        variance = np.var(np.array(PC_burst_rate_spec[pc][t]), axis=0)\n",
    "        variance_threshold = np.max(variance)*sigma\n",
    "        np.mean(variance <= variance_threshold)\n",
    "        print(np.mean(variance <= variance_threshold))"
   ]
  },
  {
   "cell_type": "code",
   "execution_count": 28,
   "id": "ed10c38e",
   "metadata": {},
   "outputs": [],
   "source": [
    "burst_rate_spec_3SD_file = \"/home/mszul/datasets/explicit_implicit_beta/derivatives/PCA_results/3sd_PC_burst_rate_spec.pkl\"\n",
    "burst_rate_spec_3SD = pickle.load(open(burst_rate_spec_3SD_file, \"rb\"))\n",
    "PC_to_analyse_3SD = [\"PC_7\", \"PC_8\", \"PC_9\", \"PC_10\"]"
   ]
  },
  {
   "cell_type": "code",
   "execution_count": 34,
   "id": "1a14265a",
   "metadata": {},
   "outputs": [
    {
     "name": "stdout",
     "output_type": "stream",
     "text": [
      "0.0\n",
      "0.0\n",
      "0.0\n",
      "0.0\n",
      "0.0\n",
      "0.0\n",
      "0.0\n",
      "0.0\n"
     ]
    }
   ],
   "source": [
    "burst_rate_spec_3SD[\"PC_7\"][\"visual\"][0].shape\n",
    "for pc in pc_keys:\n",
    "    for t in [\"visual\", \"motor\"]:\n",
    "        variance = np.var(np.array(burst_rate_spec_3SD[pc][t]), axis=0)\n",
    "        variance_threshold = np.max(variance)*sigma\n",
    "        np.mean(variance <= variance_threshold)\n",
    "        print(np.mean(variance <= variance_threshold))"
   ]
  },
  {
   "cell_type": "code",
   "execution_count": null,
   "id": "25e3f020",
   "metadata": {},
   "outputs": [],
   "source": []
  }
 ],
 "metadata": {
  "kernelspec": {
   "display_name": "Python 3 (ipykernel)",
   "language": "python",
   "name": "python3"
  },
  "language_info": {
   "codemirror_mode": {
    "name": "ipython",
    "version": 3
   },
   "file_extension": ".py",
   "mimetype": "text/x-python",
   "name": "python",
   "nbconvert_exporter": "python",
   "pygments_lexer": "ipython3",
   "version": "3.9.7"
  }
 },
 "nbformat": 4,
 "nbformat_minor": 5
}

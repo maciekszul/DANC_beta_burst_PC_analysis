{
 "cells": [
  {
   "cell_type": "code",
   "execution_count": 1,
   "id": "0dc9ea41-679f-4c73-819e-99b9b1da56ec",
   "metadata": {},
   "outputs": [],
   "source": [
    "import json\n",
    "import pickle\n",
    "import numpy as np\n",
    "import pandas as pd\n",
    "import os.path as op\n",
    "import itertools as it\n",
    "from utilities import files\n",
    "from mne import read_epochs\n",
    "import matplotlib.pylab as plt\n",
    "from joblib import Parallel, delayed\n",
    "from tqdm.notebook import trange, tqdm\n",
    "from sklearn.preprocessing import RobustScaler\n",
    "from sklearn.decomposition import PCA\n",
    "from scipy.ndimage import gaussian_filter, gaussian_filter1d\n",
    "from extra.tools import many_is_in, cat, shuffle_array, shuffle_array_range, consecutive_margin_ix, dump_the_dict"
   ]
  },
  {
   "cell_type": "code",
   "execution_count": 2,
   "id": "c43c6f59-35d8-45a3-b26a-064a8064ed3b",
   "metadata": {},
   "outputs": [],
   "source": [
    "visual_epoch_file = \"/home/mszul/datasets/explicit_implicit_beta/derivatives/processed/sub-145/sub-145-002-visual-epo.fif\"\n",
    "motor_epoch_file = \"/home/mszul/datasets/explicit_implicit_beta/derivatives/processed/sub-145/sub-145-002-motor-epo.fif\"\n",
    "burst_features_file = \"/home/mszul/datasets/explicit_implicit_beta/derivatives/PCA_results/burst_features.csv\"\n",
    "waveform_array_file = \"/home/mszul/datasets/explicit_implicit_beta/derivatives/PCA_results/all_waveforms.npy\""
   ]
  },
  {
   "cell_type": "code",
   "execution_count": 3,
   "id": "bee6c323-ca4e-4f34-bed2-8a289a94ab0e",
   "metadata": {},
   "outputs": [],
   "source": [
    "visual_epoch = read_epochs(visual_epoch_file, verbose=False)\n",
    "motor_epoch = read_epochs(motor_epoch_file, verbose=False)\n",
    "visual_epoch_times = visual_epoch.times\n",
    "motor_epoch_times = motor_epoch.times\n",
    "del visual_epoch\n",
    "del motor_epoch"
   ]
  },
  {
   "cell_type": "code",
   "execution_count": 9,
   "id": "c42963e4-c64e-4b44-bcd7-30beab419892",
   "metadata": {},
   "outputs": [],
   "source": [
    "buffer = 0.125\n",
    "bin_width = 0.05\n",
    "baseline_range = [-0.5, -0.25]\n",
    "\n",
    "\n",
    "visual_time_bins = np.arange(visual_epoch_times[0] + buffer, visual_epoch_times[-1] - buffer, bin_width)\n",
    "motor_time_bins = np.arange(motor_epoch_times[0] + buffer, motor_epoch_times[-1] - buffer, bin_width)\n",
    "\n",
    "visual_bin_ranges = list(zip(visual_time_bins[:-1], visual_time_bins[1:]))\n",
    "motor_bin_ranges = list(zip(motor_time_bins[:-1], motor_time_bins[1:]))\n",
    "vis_time_plot = visual_time_bins[:-1]\n",
    "mot_time_plot = motor_time_bins[:-1]\n",
    "\n",
    "\n",
    "\n",
    "time_bins = {\n",
    "    \"vis\": visual_time_bins,\n",
    "    \"mot\": motor_time_bins\n",
    "}"
   ]
  },
  {
   "cell_type": "code",
   "execution_count": 5,
   "id": "064886bb-8cf9-422b-b251-50d97ea5aad8",
   "metadata": {},
   "outputs": [],
   "source": [
    "burst_features = pd.read_csv(burst_features_file)"
   ]
  },
  {
   "cell_type": "code",
   "execution_count": 6,
   "id": "1f4348d2-ad64-41f8-811a-f2d1bb177114",
   "metadata": {},
   "outputs": [
    {
     "data": {
      "text/plain": [
       "Index(['subject', 'epoch', 'peak_time', 'peak_freq', 'peak_amp_base',\n",
       "       'fwhm_freq', 'fwhm_time', 'trial', 'pp_ix', 'block', 'PC_1', 'PC_2',\n",
       "       'PC_3', 'PC_4', 'PC_5', 'PC_6', 'PC_7', 'PC_8', 'PC_9', 'PC_10',\n",
       "       'PC_11', 'PC_12', 'PC_13', 'PC_14', 'PC_15', 'PC_16', 'PC_17', 'PC_18',\n",
       "       'PC_19', 'PC_20'],\n",
       "      dtype='object')"
      ]
     },
     "execution_count": 6,
     "metadata": {},
     "output_type": "execute_result"
    }
   ],
   "source": [
    "burst_features.columns"
   ]
  },
  {
   "cell_type": "code",
   "execution_count": 7,
   "id": "ad7bb53e-09b8-4aae-889b-f17f0385c9fe",
   "metadata": {},
   "outputs": [],
   "source": [
    "PC_to_analyse = [\"PC_7\", \"PC_8\", \"PC_9\", \"PC_10\"]"
   ]
  },
  {
   "cell_type": "code",
   "execution_count": null,
   "id": "e1ba169f-31ff-4e53-a2db-70fd8871ed8a",
   "metadata": {},
   "outputs": [],
   "source": [
    "# prct = np.linspace(0,100, num=5)\n",
    "# prct_ranges = list(zip(prct[:-1], prct[1:]))\n",
    "\n",
    "# wvfrms = {\n",
    "#     k: [] for k in PC_to_analyse\n",
    "# }\n",
    "\n",
    "# for pc_ix, pc_key in enumerate(PC_to_analyse):\n",
    "#     for low, hi in prct_ranges:\n",
    "#         low_perc = np.percentile(burst_features[pc_key], low)\n",
    "#         hi_perc = np.percentile(burst_features[pc_key], hi)\n",
    "#         wvf_ixs = burst_features.loc[\n",
    "#             (burst_features[pc_key] >= low_perc) &\n",
    "#             (burst_features[pc_key] <= hi_perc) \n",
    "#         ].index\n",
    "#         MWF = np.mean(waveform_array[wvf_ixs, :], axis=0)\n",
    "#         wvfrms[pc_key].append(MWF)"
   ]
  },
  {
   "cell_type": "code",
   "execution_count": null,
   "id": "0faec8e3-9006-4329-a2eb-c24672babfc6",
   "metadata": {
    "tags": []
   },
   "outputs": [],
   "source": [
    "###########################################################################################\n",
    "#                                  NOT PARALLELIZED                                       #\n",
    "###########################################################################################\n",
    "\n",
    "PC_burst_rate_spec_file = \"/home/mszul/datasets/explicit_implicit_beta/derivatives/PCA_results/PC_burst_rate_spec.pkl\"\n",
    "if op.exists(PC_burst_rate_spec_file):\n",
    "    PC_burst_rate_spec = pickle.load(open(PC_burst_rate_spec_file, \"rb\"))\n",
    "\n",
    "else:\n",
    "    PC_burst_rate_spec = {i: {\"vis\": [], \"mot\": []} for i in PC_to_analyse}\n",
    "\n",
    "    subjects = burst_features.subject.unique()\n",
    "\n",
    "    for pc_key in tqdm(PC_to_analyse, colour=\"green\"):\n",
    "        comp_score = burst_features[pc_key]\n",
    "        score_range = np.linspace(\n",
    "            np.percentile(comp_score, 0.5),\n",
    "            np.percentile(comp_score, 99.5),\n",
    "            num = 41\n",
    "        )\n",
    "        for sub in subjects:\n",
    "            sub_PC_br = {\n",
    "                \"vis\": [],\n",
    "                \"mot\": []\n",
    "            }\n",
    "            for ep in [\"vis\", \"mot\"]:\n",
    "                tr_uniq_ix = burst_features.loc[\n",
    "                    (burst_features.subject == sub) &\n",
    "                    (burst_features.epoch == ep)\n",
    "                ].pp_ix.unique()\n",
    "\n",
    "                data_snippet = burst_features.loc[\n",
    "                    (burst_features.subject == sub) &\n",
    "                    (burst_features.epoch == ep)\n",
    "                ][[\"peak_time\", pc_key]]\n",
    "                PC_br_all_trials = []\n",
    "                for tr_ix in tqdm(tr_uniq_ix, colour=\"purple\"):\n",
    "                    peak_times = data_snippet.loc[\n",
    "                        (data_snippet.pp_ix == tr_ix)\n",
    "                    ].peak_time.to_numpy()\n",
    "                    pc_scores = data_snippet.loc[\n",
    "                        (data_snippet.pp_ix == tr_ix)\n",
    "                    ][pc_key].to_numpy()\n",
    "\n",
    "                    PC_br, t_bin, m_bin = np.histogram2d(\n",
    "                        peak_times,\n",
    "                        pc_scores,\n",
    "                        bins = [time_bins[ep], score_range]\n",
    "                    )\n",
    "                    PC_br = PC_br / bin_width\n",
    "                    PC_br = gaussian_filter(PC_br, [1,1])\n",
    "                    PC_br_all_trials.append(PC_br)\n",
    "                PC_br_all_trials = np.mean(PC_br_all_trials, axis=0)\n",
    "                sub_PC_br[ep] = PC_br_all_trials\n",
    "\n",
    "            # baselining\n",
    "            bl_ix = np.where(\n",
    "                (time_bins[\"vis\"] >= baseline_range[0]) &\n",
    "                (time_bins[\"vis\"] <= baseline_range[-1])\n",
    "            )[0]\n",
    "            baseline = np.mean(sub_PC_br[\"vis\"][bl_ix,:], axis=0).reshape(1, -1)\n",
    "            sub_PC_br[\"vis\"] = (sub_PC_br[\"vis\"] - baseline) / baseline\n",
    "            sub_PC_br[\"mot\"] = (sub_PC_br[\"mot\"] - baseline) / baseline\n",
    "\n",
    "            for ep in [\"vis\", \"mot\"]:\n",
    "                PC_burst_rate_spec[pc_key][ep].append(sub_PC_br[ep])\n",
    "    pickle.dump(PC_burst_rate_spec, open(PC_burst_rate_spec_file, \"wb\"))"
   ]
  },
  {
   "cell_type": "code",
   "execution_count": 10,
   "id": "43a5f601-004a-4777-9c87-d4622d8c2bb1",
   "metadata": {},
   "outputs": [
    {
     "data": {
      "application/vnd.jupyter.widget-view+json": {
       "model_id": "428fc2b469f847a2bfbfa540a52028e9",
       "version_major": 2,
       "version_minor": 0
      },
      "text/plain": [
       "  0%|          | 0/4 [00:00<?, ?it/s]"
      ]
     },
     "metadata": {},
     "output_type": "display_data"
    },
    {
     "data": {
      "application/vnd.jupyter.widget-view+json": {
       "model_id": "d6ee2acfd4e844159742951bb2ab4a41",
       "version_major": 2,
       "version_minor": 0
      },
      "text/plain": [
       "  0%|          | 0/37 [00:00<?, ?it/s]"
      ]
     },
     "metadata": {},
     "output_type": "display_data"
    },
    {
     "data": {
      "application/vnd.jupyter.widget-view+json": {
       "model_id": "1385a242664d40fda9ffe3fab9e6d307",
       "version_major": 2,
       "version_minor": 0
      },
      "text/plain": [
       "  0%|          | 0/37 [00:00<?, ?it/s]"
      ]
     },
     "metadata": {},
     "output_type": "display_data"
    },
    {
     "data": {
      "application/vnd.jupyter.widget-view+json": {
       "model_id": "dd2937bcee68412b8922684d0f5430e3",
       "version_major": 2,
       "version_minor": 0
      },
      "text/plain": [
       "  0%|          | 0/37 [00:00<?, ?it/s]"
      ]
     },
     "metadata": {},
     "output_type": "display_data"
    },
    {
     "data": {
      "application/vnd.jupyter.widget-view+json": {
       "model_id": "1d0817d8c0b54c448fe2532235c37b28",
       "version_major": 2,
       "version_minor": 0
      },
      "text/plain": [
       "  0%|          | 0/37 [00:00<?, ?it/s]"
      ]
     },
     "metadata": {},
     "output_type": "display_data"
    }
   ],
   "source": [
    "###########################################################################################\n",
    "#                                      PARALLELIZED                                       #\n",
    "###########################################################################################\n",
    "\n",
    "def do_trials(data_snippet, pc_key, score_range, tr_ix):\n",
    "    peak_times = data_snippet.loc[\n",
    "        (data_snippet.pp_ix == tr_ix)\n",
    "    ].peak_time.to_numpy()\n",
    "    pc_scores = data_snippet.loc[\n",
    "        (data_snippet.pp_ix == tr_ix)\n",
    "    ][pc_key].to_numpy()\n",
    "\n",
    "    PC_br, t_bin, m_bin = np.histogram2d(\n",
    "        peak_times,\n",
    "        pc_scores,\n",
    "        bins = [time_bins[ep], score_range]\n",
    "    )\n",
    "    PC_br = PC_br / bin_width\n",
    "    PC_br = gaussian_filter(PC_br, [1,1])\n",
    "    PC_br_all_trials[tr_ix] = PC_br\n",
    "\n",
    "\n",
    "PC_burst_rate_spec_file = \"/home/mszul/datasets/explicit_implicit_beta/derivatives/PCA_results/PC_burst_rate_spec.pkl\"\n",
    "if op.exists(PC_burst_rate_spec_file):\n",
    "    PC_burst_rate_spec = pickle.load(open(PC_burst_rate_spec_file, \"rb\"))\n",
    "\n",
    "else:\n",
    "    PC_burst_rate_spec = {i: {\"vis\": [], \"mot\": []} for i in PC_to_analyse}\n",
    "\n",
    "    subjects = burst_features.subject.unique()\n",
    "\n",
    "    for pc_key in tqdm(PC_to_analyse, colour=\"green\"):\n",
    "        for sub in tqdm(subjects, colour=\"purple\"):\n",
    "            sub_PC_br = {\n",
    "                \"vis\": [],\n",
    "                \"mot\": []\n",
    "            }\n",
    "            comp_score_all = burst_features.loc[\n",
    "                (burst_features.subject == sub)\n",
    "            ][pc_key]\n",
    "            lower_bound = np.percentile(comp_score_all, 1)\n",
    "            upper_bound = np.percentile(comp_score_all, 99)\n",
    "            score_range = np.linspace(lower_bound, upper_bound, num=41)\n",
    "            for ep in [\"vis\", \"mot\"]:\n",
    "                data_snippet = burst_features.loc[\n",
    "                    (burst_features.subject == sub) &\n",
    "                    (burst_features.epoch == ep) &\n",
    "                    (burst_features[pc_key] >= lower_bound) &\n",
    "                    (burst_features[pc_key] <= upper_bound)\n",
    "                ][[\"peak_time\", pc_key, \"pp_ix\"]]\n",
    "                \n",
    "                tr_uniq_ix = data_snippet.pp_ix.unique()\n",
    "                \n",
    "                PC_br_all_trials = {}\n",
    "                \n",
    "                Parallel(n_jobs=20, require=\"sharedmem\")(delayed(do_trials)(\n",
    "                    data_snippet, pc_key, score_range, tr_ix\n",
    "                ) for tr_ix in tr_uniq_ix);\n",
    "                \n",
    "                PC_br_all_trials = [PC_br_all_trials[i] for i in PC_br_all_trials.keys()]\n",
    "                PC_br_all_trials = np.mean(PC_br_all_trials, axis=0)\n",
    "                sub_PC_br[ep] = PC_br_all_trials\n",
    "\n",
    "            # baselining\n",
    "            bl_ix = np.where(\n",
    "                (time_bins[\"vis\"] >= baseline_range[0]) &\n",
    "                (time_bins[\"vis\"] <= baseline_range[-1])\n",
    "            )[0]\n",
    "            baseline = np.mean(sub_PC_br[\"vis\"][bl_ix,:], axis=0).reshape(1, -1)\n",
    "            sub_PC_br[\"vis\"] = (sub_PC_br[\"vis\"] - baseline) / baseline\n",
    "            sub_PC_br[\"mot\"] = (sub_PC_br[\"mot\"] - baseline) / baseline\n",
    "\n",
    "            for ep in [\"vis\", \"mot\"]:\n",
    "                PC_burst_rate_spec[pc_key][ep].append(sub_PC_br[ep])\n",
    "    pickle.dump(PC_burst_rate_spec, open(PC_burst_rate_spec_file, \"wb\"))"
   ]
  },
  {
   "cell_type": "code",
   "execution_count": 14,
   "id": "96a4791f-6d26-4406-b351-12dfb2ee7ba7",
   "metadata": {},
   "outputs": [
    {
     "data": {
      "application/vnd.jupyter.widget-view+json": {
       "model_id": "fcc6c7cc50fc42eabd3f1e6c3a5aee13",
       "version_major": 2,
       "version_minor": 0
      },
      "text/plain": [
       "  0%|          | 0/20 [00:00<?, ?it/s]"
      ]
     },
     "metadata": {},
     "output_type": "display_data"
    },
    {
     "data": {
      "application/vnd.jupyter.widget-view+json": {
       "model_id": "eaac6a9e8aae4a50a4660c7abf25da92",
       "version_major": 2,
       "version_minor": 0
      },
      "text/plain": [
       "  0%|          | 0/37 [00:00<?, ?it/s]"
      ]
     },
     "metadata": {},
     "output_type": "display_data"
    },
    {
     "data": {
      "application/vnd.jupyter.widget-view+json": {
       "model_id": "9762a27e122143ee80a796c61ce3d312",
       "version_major": 2,
       "version_minor": 0
      },
      "text/plain": [
       "  0%|          | 0/37 [00:00<?, ?it/s]"
      ]
     },
     "metadata": {},
     "output_type": "display_data"
    },
    {
     "data": {
      "application/vnd.jupyter.widget-view+json": {
       "model_id": "1bd41060a61148d091296be4bce730fe",
       "version_major": 2,
       "version_minor": 0
      },
      "text/plain": [
       "  0%|          | 0/37 [00:00<?, ?it/s]"
      ]
     },
     "metadata": {},
     "output_type": "display_data"
    },
    {
     "data": {
      "application/vnd.jupyter.widget-view+json": {
       "model_id": "402d4b6f4c0a4975a225317ebc9548d0",
       "version_major": 2,
       "version_minor": 0
      },
      "text/plain": [
       "  0%|          | 0/37 [00:00<?, ?it/s]"
      ]
     },
     "metadata": {},
     "output_type": "display_data"
    },
    {
     "data": {
      "application/vnd.jupyter.widget-view+json": {
       "model_id": "d51add853d4845a6947eed3b9e573f48",
       "version_major": 2,
       "version_minor": 0
      },
      "text/plain": [
       "  0%|          | 0/37 [00:00<?, ?it/s]"
      ]
     },
     "metadata": {},
     "output_type": "display_data"
    },
    {
     "data": {
      "application/vnd.jupyter.widget-view+json": {
       "model_id": "e34ba57f680b42a38cfe831d8f66d4eb",
       "version_major": 2,
       "version_minor": 0
      },
      "text/plain": [
       "  0%|          | 0/37 [00:00<?, ?it/s]"
      ]
     },
     "metadata": {},
     "output_type": "display_data"
    },
    {
     "data": {
      "application/vnd.jupyter.widget-view+json": {
       "model_id": "0b0dcdc8ddc94cbab15119b03a06c1f1",
       "version_major": 2,
       "version_minor": 0
      },
      "text/plain": [
       "  0%|          | 0/37 [00:00<?, ?it/s]"
      ]
     },
     "metadata": {},
     "output_type": "display_data"
    },
    {
     "data": {
      "application/vnd.jupyter.widget-view+json": {
       "model_id": "6fae31bc9f8c49e3a38530bbb4883eb5",
       "version_major": 2,
       "version_minor": 0
      },
      "text/plain": [
       "  0%|          | 0/37 [00:00<?, ?it/s]"
      ]
     },
     "metadata": {},
     "output_type": "display_data"
    },
    {
     "data": {
      "application/vnd.jupyter.widget-view+json": {
       "model_id": "28b4d9fd91ee45e1b8c39dbdd82f6ea3",
       "version_major": 2,
       "version_minor": 0
      },
      "text/plain": [
       "  0%|          | 0/37 [00:00<?, ?it/s]"
      ]
     },
     "metadata": {},
     "output_type": "display_data"
    },
    {
     "data": {
      "application/vnd.jupyter.widget-view+json": {
       "model_id": "4aadcb35f9fc4b6ab69c93bfad19b1d1",
       "version_major": 2,
       "version_minor": 0
      },
      "text/plain": [
       "  0%|          | 0/37 [00:00<?, ?it/s]"
      ]
     },
     "metadata": {},
     "output_type": "display_data"
    },
    {
     "data": {
      "application/vnd.jupyter.widget-view+json": {
       "model_id": "19834a83d722479d81393c0af6a08116",
       "version_major": 2,
       "version_minor": 0
      },
      "text/plain": [
       "  0%|          | 0/37 [00:00<?, ?it/s]"
      ]
     },
     "metadata": {},
     "output_type": "display_data"
    },
    {
     "data": {
      "application/vnd.jupyter.widget-view+json": {
       "model_id": "e44b3abc05e949baa0c3a87102a84814",
       "version_major": 2,
       "version_minor": 0
      },
      "text/plain": [
       "  0%|          | 0/37 [00:00<?, ?it/s]"
      ]
     },
     "metadata": {},
     "output_type": "display_data"
    },
    {
     "data": {
      "application/vnd.jupyter.widget-view+json": {
       "model_id": "87e06bd11a7d483387c94312e0d59180",
       "version_major": 2,
       "version_minor": 0
      },
      "text/plain": [
       "  0%|          | 0/37 [00:00<?, ?it/s]"
      ]
     },
     "metadata": {},
     "output_type": "display_data"
    },
    {
     "data": {
      "application/vnd.jupyter.widget-view+json": {
       "model_id": "25e6f3785c6f495e9b1c59ec5ea19424",
       "version_major": 2,
       "version_minor": 0
      },
      "text/plain": [
       "  0%|          | 0/37 [00:00<?, ?it/s]"
      ]
     },
     "metadata": {},
     "output_type": "display_data"
    },
    {
     "data": {
      "application/vnd.jupyter.widget-view+json": {
       "model_id": "8dbd90aa8df840a690d2a29ad1494225",
       "version_major": 2,
       "version_minor": 0
      },
      "text/plain": [
       "  0%|          | 0/37 [00:00<?, ?it/s]"
      ]
     },
     "metadata": {},
     "output_type": "display_data"
    },
    {
     "data": {
      "application/vnd.jupyter.widget-view+json": {
       "model_id": "19a1d226a68649a88a67fffa764a3fcc",
       "version_major": 2,
       "version_minor": 0
      },
      "text/plain": [
       "  0%|          | 0/37 [00:00<?, ?it/s]"
      ]
     },
     "metadata": {},
     "output_type": "display_data"
    },
    {
     "data": {
      "application/vnd.jupyter.widget-view+json": {
       "model_id": "844a177296654afba2edfce19817184a",
       "version_major": 2,
       "version_minor": 0
      },
      "text/plain": [
       "  0%|          | 0/37 [00:00<?, ?it/s]"
      ]
     },
     "metadata": {},
     "output_type": "display_data"
    },
    {
     "data": {
      "application/vnd.jupyter.widget-view+json": {
       "model_id": "206cad827a854a27abeb789ffebf8be3",
       "version_major": 2,
       "version_minor": 0
      },
      "text/plain": [
       "  0%|          | 0/37 [00:00<?, ?it/s]"
      ]
     },
     "metadata": {},
     "output_type": "display_data"
    },
    {
     "data": {
      "application/vnd.jupyter.widget-view+json": {
       "model_id": "31f121222b954d019109e8b92c6179f9",
       "version_major": 2,
       "version_minor": 0
      },
      "text/plain": [
       "  0%|          | 0/37 [00:00<?, ?it/s]"
      ]
     },
     "metadata": {},
     "output_type": "display_data"
    },
    {
     "data": {
      "application/vnd.jupyter.widget-view+json": {
       "model_id": "807ff799316948a498e4dc1f51eebc7e",
       "version_major": 2,
       "version_minor": 0
      },
      "text/plain": [
       "  0%|          | 0/37 [00:00<?, ?it/s]"
      ]
     },
     "metadata": {},
     "output_type": "display_data"
    }
   ],
   "source": [
    "all_PCs = [\"PC_{}\".format(i) for i in np.arange(1, 21)]\n",
    "\n",
    "def do_trials(data_snippet, pc_key, score_range, tr_ix):\n",
    "    peak_times = data_snippet.loc[\n",
    "        (data_snippet.pp_ix == tr_ix)\n",
    "    ].peak_time.to_numpy()\n",
    "    pc_scores = data_snippet.loc[\n",
    "        (data_snippet.pp_ix == tr_ix)\n",
    "    ][pc_key].to_numpy()\n",
    "\n",
    "    PC_br, t_bin, m_bin = np.histogram2d(\n",
    "        peak_times,\n",
    "        pc_scores,\n",
    "        bins = [time_bins[ep], score_range]\n",
    "    )\n",
    "    PC_br = PC_br / bin_width\n",
    "    PC_br = gaussian_filter(PC_br, [1,1])\n",
    "    PC_br_all_trials[tr_ix] = PC_br\n",
    "\n",
    "\n",
    "all_PC_burst_rate_spec_file = \"/home/mszul/datasets/explicit_implicit_beta/derivatives/PCA_results/all_PC_burst_rate_spec.pkl\"\n",
    "if op.exists(all_PC_burst_rate_spec_file):\n",
    "    all_PC_burst_rate_spec = pickle.load(open(all_PC_burst_rate_spec_file, \"rb\"))\n",
    "\n",
    "else:\n",
    "    all_PC_burst_rate_spec = {i: {\"vis\": [], \"mot\": []} for i in all_PCs}\n",
    "\n",
    "    subjects = burst_features.subject.unique()\n",
    "\n",
    "    for pc_key in tqdm(all_PCs, colour=\"green\"):\n",
    "        for sub in tqdm(subjects, colour=\"purple\"):\n",
    "            sub_PC_br = {\n",
    "                \"vis\": [],\n",
    "                \"mot\": []\n",
    "            }\n",
    "            comp_score_all = burst_features.loc[\n",
    "                (burst_features.subject == sub)\n",
    "            ][pc_key]\n",
    "            lower_bound = np.percentile(comp_score_all, 1)\n",
    "            upper_bound = np.percentile(comp_score_all, 99)\n",
    "            score_range = np.linspace(lower_bound, upper_bound, num=41)\n",
    "            for ep in [\"vis\", \"mot\"]:\n",
    "                data_snippet = burst_features.loc[\n",
    "                    (burst_features.subject == sub) &\n",
    "                    (burst_features.epoch == ep) &\n",
    "                    (burst_features[pc_key] >= lower_bound) &\n",
    "                    (burst_features[pc_key] <= upper_bound)\n",
    "                ][[\"peak_time\", pc_key, \"pp_ix\"]]\n",
    "                \n",
    "                tr_uniq_ix = data_snippet.pp_ix.unique()\n",
    "                \n",
    "                PC_br_all_trials = {}\n",
    "                \n",
    "                Parallel(n_jobs=20, require=\"sharedmem\")(delayed(do_trials)(\n",
    "                    data_snippet, pc_key, score_range, tr_ix\n",
    "                ) for tr_ix in tr_uniq_ix);\n",
    "                \n",
    "                PC_br_all_trials = [PC_br_all_trials[i] for i in PC_br_all_trials.keys()]\n",
    "                PC_br_all_trials = np.mean(PC_br_all_trials, axis=0)\n",
    "                sub_PC_br[ep] = PC_br_all_trials\n",
    "\n",
    "            # baselining\n",
    "            bl_ix = np.where(\n",
    "                (time_bins[\"vis\"] >= baseline_range[0]) &\n",
    "                (time_bins[\"vis\"] <= baseline_range[-1])\n",
    "            )[0]\n",
    "            baseline = np.mean(sub_PC_br[\"vis\"][bl_ix,:], axis=0).reshape(1, -1)\n",
    "            sub_PC_br[\"vis\"] = (sub_PC_br[\"vis\"] - baseline) / baseline\n",
    "            sub_PC_br[\"mot\"] = (sub_PC_br[\"mot\"] - baseline) / baseline\n",
    "\n",
    "            for ep in [\"vis\", \"mot\"]:\n",
    "                all_PC_burst_rate_spec[pc_key][ep].append(sub_PC_br[ep])\n",
    "    pickle.dump(all_PC_burst_rate_spec, open(all_PC_burst_rate_spec_file, \"wb\"))"
   ]
  },
  {
   "cell_type": "code",
   "execution_count": null,
   "id": "07092792-7963-4dc5-bf96-b4eaccf1485e",
   "metadata": {},
   "outputs": [],
   "source": []
  }
 ],
 "metadata": {
  "kernelspec": {
   "display_name": "Python 3 (ipykernel)",
   "language": "python",
   "name": "python3"
  },
  "language_info": {
   "codemirror_mode": {
    "name": "ipython",
    "version": 3
   },
   "file_extension": ".py",
   "mimetype": "text/x-python",
   "name": "python",
   "nbconvert_exporter": "python",
   "pygments_lexer": "ipython3",
   "version": "3.9.7"
  }
 },
 "nbformat": 4,
 "nbformat_minor": 5
}
